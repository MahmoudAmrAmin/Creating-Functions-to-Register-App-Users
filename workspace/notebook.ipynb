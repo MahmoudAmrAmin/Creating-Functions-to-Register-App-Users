{
 "cells": [
  {
   "cell_type": "markdown",
   "id": "39724b01-e27d-4b9f-b506-8767841e78a7",
   "metadata": {},
   "source": [
    "![img](img.jpg)\n"
   ]
  },
  {
   "cell_type": "markdown",
   "id": "2d915951-4dbd-49ac-bc0d-8ae3df53f586",
   "metadata": {},
   "source": [
    "You are a junior developer working in a small start-up. Your managers have asked you to develop a new account registration system for a mobile app. The system must validate user input on the sign-up form before creating an account. \n",
    "\n",
    "The previous junior developer wrote some helper functions that validate the name, email, and password. Use these functions to register users, store their data, and implement some error handling! These have been imported into the workspace for you. They will be a great help to you when registering the user, but first you have to understand what the function does! Inspect the docstrings of each of the helper functions: `validate_name`, `validate_email` and `validate_password`."
   ]
  },
  {
   "cell_type": "code",
   "execution_count": 2,
   "id": "89e2bca9-7ff6-4259-b33a-a85607997083",
   "metadata": {
    "executionCancelledAt": null,
    "executionTime": 160,
    "lastExecutedAt": 1709311428512,
    "lastScheduledRunId": null,
    "lastSuccessfullyExecutedCode": "# Re-run this cell and examine the docstring of each function\nfrom python_functions import validate_name, validate_email, validate_password, top_level_domains\n\nprint(\"validate_name\\n\")\nprint(validate_name.__doc__)\nprint(\"--------------------\\n\")\n\nprint(\"validate_email\\n\")\nprint(validate_email.__doc__) \nprint(\"--------------------\\n\")\n\nprint(\"validate_password\\n\")\nprint(validate_password.__doc__)\n\n# The top level domains variable is used in validate_email to approve only certain email domains\nprint(top_level_domains)",
    "outputsMetadata": {
     "0": {
      "height": 616,
      "type": "stream"
     }
    }
   },
   "outputs": [
    {
     "name": "stdout",
     "output_type": "stream",
     "text": [
      "validate_name\n",
      "\n",
      " Checks that the name is greater than two characters and is a string data type.\n",
      "\n",
      " Args:\n",
      "    name (str): The inputted name from the user.\n",
      "\n",
      " Returns:\n",
      "    bool: True if the name passes the check, False otherwise.\n",
      "    \n",
      "--------------------\n",
      "\n",
      "validate_email\n",
      "\n",
      " Checks that the email address is in a valid format, has a username greater than 1 character, an '@' symbol, and an allowed domain that is in the `top_level_domains` variable.\n",
      "\n",
      "  Args:\n",
      "    email (str): The inputted email from the user.\n",
      "\n",
      "  Returns:\n",
      "    bool: True if the email passes the checks, False otherwise.\n",
      "    \n",
      "--------------------\n",
      "\n",
      "validate_password\n",
      "\n",
      " Checks that the password is strong enough. It should include a capital letter, a number between 0-9 and be greater than 8 characters.\n",
      "\n",
      "  Args:\n",
      "    password (str): The inputted password from the user.\n",
      "\n",
      "  Returns:\n",
      "    bool: True if the password passes the checks, False otherwise.\n",
      "    \n",
      "['.org', '.net', '.edu', '.ac', '.uk', '.com']\n"
     ]
    }
   ],
   "source": [
    "# Re-run this cell and examine the docstring of each function\n",
    "from python_functions import validate_name, validate_email, validate_password, top_level_domains\n",
    "\n",
    "print(\"validate_name\\n\")\n",
    "print(validate_name.__doc__)\n",
    "print(\"--------------------\\n\")\n",
    "\n",
    "print(\"validate_email\\n\")\n",
    "print(validate_email.__doc__) \n",
    "print(\"--------------------\\n\")\n",
    "\n",
    "print(\"validate_password\\n\")\n",
    "print(validate_password.__doc__)\n",
    "\n",
    "# The top level domains variable is used in validate_email to approve only certain email domains\n",
    "print(top_level_domains)"
   ]
  },
  {
   "cell_type": "code",
   "execution_count": 6,
   "id": "05f8c17e-84b8-420c-84f1-af7015efbc8e",
   "metadata": {
    "executionCancelledAt": null,
    "executionTime": 48,
    "lastExecutedAt": 1709311428560,
    "lastScheduledRunId": null,
    "lastSuccessfullyExecutedCode": "# Start coding here\n# Use as many cells as you need"
   },
   "outputs": [],
   "source": [
    "def validate_user(name , email , passwrod) : \n",
    "\n",
    "    \"\"\"\n",
    "         Validates a user's name, email, and password.\n",
    "\n",
    "    Args:\n",
    "        name (str): The user's name.\n",
    "        email (str): The user's email address.\n",
    "        password (str): The user's password.\n",
    "\n",
    "    Raises:\n",
    "        ValueError: If any of the inputs are invalid.\n",
    "\n",
    "    Returns:\n",
    "        bool: True if all inputs are valid.\n",
    "\n",
    "    \"\"\"\n",
    "    if not validate_name(name) : \n",
    "        raise ValueError('this is invalid user name ')\n",
    "    if not validate_email(email):\n",
    "        raise ValueError('this is invalid email')\n",
    "    if not validate_password(passwrod) : \n",
    "        raise ValueError('this is invalid password')\n",
    "    return True \n"
   ]
  },
  {
   "cell_type": "code",
   "execution_count": 8,
   "id": "85b5a616",
   "metadata": {},
   "outputs": [],
   "source": [
    "def register_user(name, email, passwrod):\n",
    "    \"\"\"\n",
    "    Attempts to register a user by validating the input.\n",
    "\n",
    "    Args:\n",
    "        name (str): The user's name.\n",
    "        email (str): The user's email address.\n",
    "        passwrod (str): The user's password (note: check spelling).\n",
    "\n",
    "    Returns:\n",
    "        dict: A dictionary containing user data if successful.\n",
    "        bool: False if validation fails.\n",
    "    \"\"\"\n",
    "    try:\n",
    "        validate_user(name, email, passwrod)\n",
    "        return {\n",
    "            'name': name,\n",
    "            'email': email,\n",
    "            'passwrod': passwrod\n",
    "        }\n",
    "    except Exception:\n",
    "        return False\n",
    "\n",
    "    "
   ]
  },
  {
   "cell_type": "code",
   "execution_count": null,
   "id": "40f99ce9",
   "metadata": {},
   "outputs": [],
   "source": []
  }
 ],
 "metadata": {
  "editor": "DataCamp Workspace",
  "kernelspec": {
   "display_name": "base2",
   "language": "python",
   "name": "python3"
  },
  "language_info": {
   "codemirror_mode": {
    "name": "ipython",
    "version": 3
   },
   "file_extension": ".py",
   "mimetype": "text/x-python",
   "name": "python",
   "nbconvert_exporter": "python",
   "pygments_lexer": "ipython3",
   "version": "3.10.16"
  }
 },
 "nbformat": 4,
 "nbformat_minor": 5
}
